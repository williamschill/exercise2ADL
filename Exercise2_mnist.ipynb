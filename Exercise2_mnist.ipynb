{
 "cells": [
  {
   "cell_type": "code",
   "execution_count": 1,
   "id": "f7e42bf0",
   "metadata": {},
   "outputs": [],
   "source": [
    "import torch\n",
    "import torch.nn as nn\n",
    "import torchvision.transforms as transforms\n",
    "import torchvision.models as models\n",
    "import torchvision\n",
    "import numpy as np\n",
    "from sklearn.model_selection import train_test_split\n",
    "import torch.nn.functional as F\n",
    "import torch.nn as nn\n",
    "from torch import optim\n",
    "from torch.utils.tensorboard import SummaryWriter\n",
    "import matplotlib.pyplot as plt"
   ]
  },
  {
   "cell_type": "code",
   "execution_count": 2,
   "id": "7ea559bd",
   "metadata": {},
   "outputs": [],
   "source": [
    "device = torch.device('cuda' if torch.cuda.is_available() else 'cpu')"
   ]
  },
  {
   "cell_type": "code",
   "execution_count": 3,
   "id": "0c8734d7",
   "metadata": {},
   "outputs": [
    {
     "name": "stdout",
     "output_type": "stream",
     "text": [
      "Using downloaded and verified file: ./data\\train_32x32.mat\n",
      "Using downloaded and verified file: ./data\\test_32x32.mat\n"
     ]
    }
   ],
   "source": [
    "transform_svhn = transforms.Compose(\n",
    "    [\n",
    "    transforms.Grayscale(),\n",
    "    transforms.ToTensor(),\n",
    "    transforms.Resize((28, 28))\n",
    "    ])\n",
    "\n",
    "transform_mnist = transforms.Compose(\n",
    "    [\n",
    "    transforms.Grayscale(),\n",
    "    transforms.ToTensor(),\n",
    "    transforms.RandomRotation((-75, 75))\n",
    "    ])\n",
    "\n",
    "'''\n",
    "SVNH\n",
    "'''\n",
    "train_data_svhn = torchvision.datasets.SVHN(root='./data', split='train', download=True, transform=transform_svhn)\n",
    "\n",
    "train_svhn, val_svhn = train_test_split(train_data_svhn, test_size=0.2, random_state=42)\n",
    "\n",
    "train_loader_svhn = torch.utils.data.DataLoader(train_svhn, batch_size=64, shuffle=True, num_workers=2)\n",
    "val_loader_svhn = torch.utils.data.DataLoader(val_svhn, batch_size=64, shuffle=True, num_workers=2)\n",
    "\n",
    "test_data_svhn = torchvision.datasets.SVHN(root='./data', split='test', download=True, transform=transform_svhn)\n",
    "test_loader_svhn = torch.utils.data.DataLoader(test_data_svhn, batch_size=64, shuffle=False, num_workers=2)\n",
    "\n",
    "'''\n",
    "MNIST\n",
    "'''\n",
    "train_data_mnist = torchvision.datasets.MNIST(root='./data', train=True, download=True, transform=transform_mnist)\n",
    "\n",
    "train_mnist, val_mnist= train_test_split(train_data_mnist, test_size=0.2, random_state=42)\n",
    "\n",
    "train_loader_mnist = torch.utils.data.DataLoader(train_mnist, batch_size=64, shuffle=True, num_workers=2)\n",
    "val_loader_mnist = torch.utils.data.DataLoader(val_mnist, batch_size=64, shuffle=True, num_workers=2)\n",
    "\n",
    "test_data_mnist = torchvision.datasets.MNIST(root='./data', train=False, download=True, transform=transform_mnist)\n",
    "test_loader_mnist = torch.utils.data.DataLoader(test_data_mnist, batch_size=64, shuffle=False, num_workers=2)\n",
    "\n"
   ]
  },
  {
   "cell_type": "code",
   "execution_count": 4,
   "id": "6f6dad33",
   "metadata": {},
   "outputs": [],
   "source": [
    "loaders_svhn = {\n",
    "    'train': train_loader_svhn,\n",
    "    'val': val_loader_svhn,\n",
    "    'test': test_loader_svhn\n",
    "}\n",
    "\n",
    "loaders_mnist = {\n",
    "    'train': train_loader_mnist,\n",
    "    'val': val_loader_mnist,\n",
    "    'test': test_loader_mnist\n",
    "}"
   ]
  },
  {
   "cell_type": "code",
   "execution_count": 5,
   "id": "33843790",
   "metadata": {},
   "outputs": [],
   "source": [
    "class CNN(nn.Module):\n",
    "    def __init__(self):\n",
    "        super(CNN, self).__init__()\n",
    "        self.conv1 = nn.Sequential(         \n",
    "            nn.Conv2d(\n",
    "                in_channels=1,              \n",
    "                out_channels=16,            \n",
    "                kernel_size=5,              \n",
    "                stride=1,                   \n",
    "                padding=2,                  \n",
    "            ),                              \n",
    "            nn.ReLU(),                      \n",
    "            nn.MaxPool2d(kernel_size=2),    \n",
    "        )\n",
    "        self.conv2 = nn.Sequential(         \n",
    "            nn.Conv2d(16, 32, 5, 1, 2),     \n",
    "            nn.ReLU(),                      \n",
    "            nn.MaxPool2d(2),                \n",
    "        )\n",
    "        self.FC1 = nn.Linear(32 * 7 * 7, 850)\n",
    "        self.ReLU = nn.LeakyReLU(0.1)\n",
    "        self.out = nn.Linear(850, 10)\n",
    "    def forward(self, x):\n",
    "        x = self.conv1(x)\n",
    "        x = self.conv2(x)\n",
    "        x = x.view(x.size(0), -1)\n",
    "        x = self.FC1(x)\n",
    "        x = self.ReLU(x)\n",
    "        output = self.out(x)\n",
    "        return output"
   ]
  },
  {
   "cell_type": "code",
   "execution_count": 6,
   "id": "02910b0c",
   "metadata": {},
   "outputs": [],
   "source": [
    "cnn_mnist = CNN()\n",
    "criterion = nn.CrossEntropyLoss()\n",
    "optimizer = optim.Adam(cnn_mnist.parameters(), lr = 0.0001)"
   ]
  },
  {
   "cell_type": "code",
   "execution_count": 7,
   "id": "fdff1f8c",
   "metadata": {},
   "outputs": [],
   "source": [
    "num_epochs = 2\n",
    "\n",
    "def train(num_epochs, cnn, loaders):\n",
    "    cnn.train()\n",
    "    running_loss = 0.0\n",
    "    total_step = len(loaders['train'])\n",
    "    for epoch in range(num_epochs):\n",
    "        for i, data in enumerate(loaders['train']):\n",
    "            inputs, labels = data\n",
    "            \n",
    "            optimizer.zero_grad()\n",
    "            \n",
    "            outputs = cnn(inputs)\n",
    "            loss = criterion(outputs, labels)\n",
    "            loss.backward()             \n",
    "            optimizer.step()                \n",
    "            \n",
    "            if (i+1) % 100 == 0:\n",
    "                print(f'Epoch {epoch+1}/{num_epochs}, Loss: {loss.item()}')"
   ]
  },
  {
   "cell_type": "code",
   "execution_count": 8,
   "id": "d8c663bb",
   "metadata": {
    "scrolled": true
   },
   "outputs": [
    {
     "name": "stdout",
     "output_type": "stream",
     "text": [
      "Epoch 1/2, Loss: 1.2451661825180054\n",
      "Epoch 1/2, Loss: 0.8758147358894348\n",
      "Epoch 1/2, Loss: 0.7475005388259888\n",
      "Epoch 1/2, Loss: 0.4989623427391052\n",
      "Epoch 1/2, Loss: 0.6146449446678162\n",
      "Epoch 1/2, Loss: 0.3575836718082428\n",
      "Epoch 1/2, Loss: 0.4809367060661316\n",
      "Epoch 2/2, Loss: 0.3329421281814575\n",
      "Epoch 2/2, Loss: 0.4829939901828766\n",
      "Epoch 2/2, Loss: 0.17274883389472961\n",
      "Epoch 2/2, Loss: 0.2718576192855835\n",
      "Epoch 2/2, Loss: 0.41746148467063904\n",
      "Epoch 2/2, Loss: 0.12569142878055573\n",
      "Epoch 2/2, Loss: 0.19346126914024353\n"
     ]
    }
   ],
   "source": [
    "train(num_epochs, cnn_mnist, loaders_mnist)"
   ]
  },
  {
   "cell_type": "code",
   "execution_count": 9,
   "id": "b40a4a47",
   "metadata": {},
   "outputs": [],
   "source": [
    "torch.save(cnn_mnist.state_dict(), './cnn_mnist.pth')"
   ]
  },
  {
   "cell_type": "code",
   "execution_count": 10,
   "id": "b2a565a2",
   "metadata": {},
   "outputs": [
    {
     "data": {
      "text/plain": [
       "CNN(\n",
       "  (conv1): Sequential(\n",
       "    (0): Conv2d(1, 16, kernel_size=(5, 5), stride=(1, 1), padding=(2, 2))\n",
       "    (1): ReLU()\n",
       "    (2): MaxPool2d(kernel_size=2, stride=2, padding=0, dilation=1, ceil_mode=False)\n",
       "  )\n",
       "  (conv2): Sequential(\n",
       "    (0): Conv2d(16, 32, kernel_size=(5, 5), stride=(1, 1), padding=(2, 2))\n",
       "    (1): ReLU()\n",
       "    (2): MaxPool2d(kernel_size=2, stride=2, padding=0, dilation=1, ceil_mode=False)\n",
       "  )\n",
       "  (FC1): Linear(in_features=1568, out_features=850, bias=True)\n",
       "  (ReLU): LeakyReLU(negative_slope=0.1)\n",
       "  (out): Linear(in_features=850, out_features=10, bias=True)\n",
       ")"
      ]
     },
     "execution_count": 10,
     "metadata": {},
     "output_type": "execute_result"
    }
   ],
   "source": [
    "cnn_mnist = CNN()\n",
    "cnn_mnist.load_state_dict(torch.load('./cnn_mnist.pth'))\n",
    "cnn_mnist.eval()"
   ]
  },
  {
   "cell_type": "code",
   "execution_count": 19,
   "id": "effb97bd",
   "metadata": {},
   "outputs": [],
   "source": [
    "def test(model, loaders):\n",
    "    true_labels=[]\n",
    "    pred_labels=[]\n",
    "    correct = 0\n",
    "    total = 0\n",
    "    losses = []\n",
    "    with torch.no_grad():\n",
    "        for i, data in enumerate(loaders['test'], 0):\n",
    "            image, label = data\n",
    "            pred = model(image)\n",
    "            for i in range(len(data)):\n",
    "                if torch.argmax(pred[i]) == label[i]:\n",
    "                    correct += 1\n",
    "                total += 1\n",
    "    print(f\"Acuracy: {round(correct/total*100, 2)}%\")"
   ]
  },
  {
   "cell_type": "code",
   "execution_count": 20,
   "id": "b1bd9c0c",
   "metadata": {},
   "outputs": [
    {
     "name": "stdout",
     "output_type": "stream",
     "text": [
      "Acuracy: 90.13%\n"
     ]
    }
   ],
   "source": [
    "test(cnn_mnist, loaders_mnist)"
   ]
  },
  {
   "cell_type": "code",
   "execution_count": 21,
   "id": "aa0245ef",
   "metadata": {},
   "outputs": [
    {
     "data": {
      "text/plain": [
       "CNN(\n",
       "  (conv1): Sequential(\n",
       "    (0): Conv2d(1, 16, kernel_size=(5, 5), stride=(1, 1), padding=(2, 2))\n",
       "    (1): ReLU()\n",
       "    (2): MaxPool2d(kernel_size=2, stride=2, padding=0, dilation=1, ceil_mode=False)\n",
       "  )\n",
       "  (conv2): Sequential(\n",
       "    (0): Conv2d(16, 32, kernel_size=(5, 5), stride=(1, 1), padding=(2, 2))\n",
       "    (1): ReLU()\n",
       "    (2): MaxPool2d(kernel_size=2, stride=2, padding=0, dilation=1, ceil_mode=False)\n",
       "  )\n",
       "  (FC1): Linear(in_features=1568, out_features=850, bias=True)\n",
       "  (ReLU): LeakyReLU(negative_slope=0.1)\n",
       "  (out): Linear(in_features=850, out_features=10, bias=True)\n",
       ")"
      ]
     },
     "execution_count": 21,
     "metadata": {},
     "output_type": "execute_result"
    }
   ],
   "source": [
    "cnn_svhn = CNN()\n",
    "cnn_svhn.load_state_dict(torch.load('./cnn_mnist.pth'))\n",
    "cnn_svhn.eval()"
   ]
  },
  {
   "cell_type": "code",
   "execution_count": 22,
   "id": "4d2bf412",
   "metadata": {},
   "outputs": [
    {
     "name": "stdout",
     "output_type": "stream",
     "text": [
      "Acuracy: 17.57%\n"
     ]
    }
   ],
   "source": [
    "test(cnn_svhn, loaders_svhn)"
   ]
  }
 ],
 "metadata": {
  "kernelspec": {
   "display_name": "Python 3 (ipykernel)",
   "language": "python",
   "name": "python3"
  },
  "language_info": {
   "codemirror_mode": {
    "name": "ipython",
    "version": 3
   },
   "file_extension": ".py",
   "mimetype": "text/x-python",
   "name": "python",
   "nbconvert_exporter": "python",
   "pygments_lexer": "ipython3",
   "version": "3.9.12"
  }
 },
 "nbformat": 4,
 "nbformat_minor": 5
}
